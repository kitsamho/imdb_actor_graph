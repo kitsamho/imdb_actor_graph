{
 "cells": [
  {
   "cell_type": "code",
   "execution_count": 29,
   "id": "younger-proceeding",
   "metadata": {},
   "outputs": [],
   "source": [
    "import pandas as pd\n",
    "import numpy as np\n",
    "import sys\n",
    "\n",
    "import os\n",
    "\n",
    "from tqdm.notebook import tqdm\n",
    "import json"
   ]
  },
  {
   "cell_type": "code",
   "execution_count": 30,
   "id": "40fbadc9",
   "metadata": {},
   "outputs": [],
   "source": [
    "sys.path.append('/'.join(os.getcwd().split(\"/\")[:-1])+\"/backend/\")"
   ]
  },
  {
   "cell_type": "code",
   "execution_count": 31,
   "id": "73bf09f1",
   "metadata": {},
   "outputs": [],
   "source": [
    "from data_collection import MultiThreading"
   ]
  },
  {
   "cell_type": "code",
   "execution_count": 32,
   "id": "foreign-mother",
   "metadata": {},
   "outputs": [],
   "source": [
    "import tmdbsimple as tmdb\n",
    "tmdb.API_KEY = '03ba24122703f9cff69789b9ebbd342e'"
   ]
  },
  {
   "cell_type": "markdown",
   "id": "5026055a",
   "metadata": {},
   "source": [
    "### Main Film Data"
   ]
  },
  {
   "cell_type": "code",
   "execution_count": 33,
   "id": "07a7b066",
   "metadata": {},
   "outputs": [],
   "source": [
    "def get_movie_payload():\n",
    "    \n",
    "    movie_payload = {'keywords':{'movie_response':[],'cols':['id','keywords'],'results_parsed':[]},\n",
    "                     'reviews':{'movie_response':[],'cols':['id','results'],'results_parsed':[]},\n",
    "                     'info':{'movie_response':[],'cols':['id','budget', 'revenue','genres','production_countries','tagline'],'results_parsed':[]}}\n",
    "    \n",
    "    return movie_payload\n"
   ]
  },
  {
   "cell_type": "code",
   "execution_count": 34,
   "id": "2358e8b7",
   "metadata": {},
   "outputs": [],
   "source": [
    "class TMDBMovieScraper:\n",
    "    def __init__(self, years_check: list):\n",
    "        \n",
    "        \"\"\"\n",
    "        This class uses the tmdbsimple library to query film information from tmdb.com\n",
    "        The discover api first queries movies that were released in a year and then \n",
    "        the movies api queries more detail about films using the tmdb ids queried from the discover api\n",
    "        \n",
    "        \n",
    "        \"\"\"\n",
    "        self.discover_api = tmdb.Discover() # instantiate tmdb.Discover module\n",
    "        self.years_check = years_check # the years to ierate through\n",
    "        self.discover_results = [] # results for\n",
    "        self.movie_payload = get_movie_payload() # get an empty movie payload\n",
    "        \n",
    "    \n",
    "    def _check_page_counts(self, discover_api, year: int):\n",
    "        \"\"\"\n",
    "        Args:\n",
    "            discover_api - instance of tmdb.Discover()\n",
    "            year - a year to query\n",
    "        Returns\n",
    "            total_pages_to_loop - The number of response pages to iterate over\n",
    "        \"\"\"\n",
    "        \n",
    "        total_pages_to_loop = discover_api.movie(year=year,page=1)['total_pages']\n",
    "        return total_pages_to_loop\n",
    "    \n",
    "    def _request_discover_data(self, years_check: list):\n",
    "        \n",
    "        \"\"\"\n",
    "        Args:\n",
    "            years_check - list of years to iterate over\n",
    "        Returns\n",
    "            nothing\n",
    "        \"\"\"\n",
    "        \n",
    "        for year in tqdm(years_check): # for each year\n",
    "            try:\n",
    "                # check how many pages to loop over for the specific year\n",
    "                total_pages_to_loop = self._check_page_counts(self.discover_api, year) \n",
    "\n",
    "                for page in tqdm(range(1,total_pages_to_loop)): # for each page in a given year\n",
    "                    try:\n",
    "                        # get movie results for that year and that page\n",
    "                        movie_results = self.discover_api.movie(primary_release_year=year, \n",
    "                                                                page=page, \n",
    "                                                                with_original_language='en', \n",
    "                                                                include_adult=False, \n",
    "                                                                vote_count_gte=100)\n",
    "                        \n",
    "                        self.discover_results.append(movie_results['results']) # append results to a list\n",
    "                    except:\n",
    "                        pass\n",
    "            except:\n",
    "                pass\n",
    "    \n",
    "    def _request_movie_data(self, movie_ids: list):\n",
    "        \"\"\"\n",
    "        Args:\n",
    "            movie_ids - list of movie ids\n",
    "        Returns\n",
    "            Nothing\n",
    "        \"\"\"\n",
    "        \n",
    "        for movie_id in tqdm(movie_ids): # iterate over each movie id\n",
    "            try:\n",
    "                for k,v in self.movie_payload.items(): # iterate over each key and value in payload\n",
    "                    v['movie_response'] = self._get_film_responses(movie_id,k) # get film response from api instance\n",
    "                    \n",
    "                    v['results_parsed'].append(self._parse_movie_response(v['movie_response'],v['cols']))\n",
    "            except:\n",
    "                pass\n",
    "\n",
    "    \n",
    "            \n",
    "    def _transform_discover_results(self, discover_results):\n",
    "        discover_df = pd.concat(pd.DataFrame(i) for i in discover_results)\n",
    "        discover_df = discover_df[['id','title','overview','popularity', 'release_date','vote_average','poster_path']]\n",
    "        discover_df['release_year'] = discover_df['release_date'].apply(lambda x: x.split(\"-\")[0])\n",
    "        \n",
    "        return discover_df.set_index('id')\n",
    "    \n",
    "    def _transform_movie_results(self):\n",
    "        results = [pd.DataFrame(self.movie_payload[k]['results_parsed']).set_index('id') for k,v in self.movie_payload.items()]\n",
    "        self.movie_df = results[0].join(results[1]).join(results[2])\n",
    "        return self.movie_df\n",
    "    \n",
    "    def _get_movie_ids(self, discover_dataframe):\n",
    "        movie_ids = list(discover_dataframe.index)\n",
    "        return list(set(movie_ids))\n",
    "    \n",
    "    def _get_film_response(self, movie_id):\n",
    "        film_response = tmdb.Movies(movie_id)\n",
    "        return film_response\n",
    "    \n",
    "    def _get_film_responses(self, movie_id, data_stream='info'):\n",
    "        film_response = self._get_film_response(movie_id)\n",
    "        if data_stream == 'reviews':\n",
    "            return film_response.reviews()\n",
    "        elif data_stream == 'info':\n",
    "            return film_response.info()\n",
    "        elif data_stream == 'keywords':\n",
    "            return film_response.keywords()\n",
    "        \n",
    "    def _parse_movie_response(self, response_dic, cols_needed):\n",
    "        return {k:v for k,v in response_dic.items() if k in cols_needed}\n",
    "    \n",
    "\n",
    "    def _dict_to_list(self, x, key_name):\n",
    "        try:\n",
    "            return [i[key_name] for i in x]\n",
    "        except:\n",
    "            return x\n",
    "    \n",
    "    def _merge_clean_and_filter(self):\n",
    "        \n",
    "        \n",
    "        self.df = self.discover_df.join(self.movie_df)\n",
    "        \n",
    "        cols = {'results':'content', 'genres':'name', 'production_countries':'name', 'keywords':'name'}\n",
    "        \n",
    "        for k,v in cols.items():\n",
    "            \n",
    "            self.df[k] = self.df[k].apply(lambda x: self._dict_to_list(x,v))\n",
    "            print(k,v)\n",
    "            \n",
    "        self.df = self.df.rename(columns={'id':'tmdb_id','title':'movie'})\n",
    "        \n",
    "        \n",
    "        return self.df\n",
    "    \n",
    "                \n",
    "    def get_movies(self):\n",
    "        mt = MultiThreading(10,self.years_check, None)\n",
    "        mt.Run(self._request_discover_data)\n",
    "        \n",
    "        \n",
    "        self.discover_df = self._transform_discover_results(self.discover_results)\n",
    "        self.movie_ids = self._get_movie_ids(self.discover_df)\n",
    "        mt = MultiThreading(10,self.movie_ids,None)\n",
    "        mt.Run(self._request_movie_data)\n",
    "        \n",
    "        self.movie_df = self._transform_movie_results()\n",
    "        self._merge_clean_and_filter()\n",
    "        \n",
    "        \n",
    "   "
   ]
  },
  {
   "cell_type": "code",
   "execution_count": 47,
   "id": "7387ff8f",
   "metadata": {},
   "outputs": [],
   "source": [
    "x = TMDBMovieScraper(list(range(1980,1984)))"
   ]
  },
  {
   "cell_type": "code",
   "execution_count": 48,
   "id": "fc0546e3",
   "metadata": {
    "scrolled": false
   },
   "outputs": [
    {
     "data": {
      "application/vnd.jupyter.widget-view+json": {
       "model_id": "1ab32789c49a425ea640aab5345d072d",
       "version_major": 2,
       "version_minor": 0
      },
      "text/plain": [
       "  0%|          | 0/1 [00:00<?, ?it/s]"
      ]
     },
     "metadata": {},
     "output_type": "display_data"
    },
    {
     "data": {
      "application/vnd.jupyter.widget-view+json": {
       "model_id": "83573f7444134dbfa81e82e8f6c5d54e",
       "version_major": 2,
       "version_minor": 0
      },
      "text/plain": [
       "  0%|          | 0/1 [00:00<?, ?it/s]"
      ]
     },
     "metadata": {},
     "output_type": "display_data"
    },
    {
     "data": {
      "application/vnd.jupyter.widget-view+json": {
       "model_id": "9ed63a43ab06457f927cce6b4945dbe3",
       "version_major": 2,
       "version_minor": 0
      },
      "text/plain": [
       "  0%|          | 0/1 [00:00<?, ?it/s]"
      ]
     },
     "metadata": {},
     "output_type": "display_data"
    },
    {
     "data": {
      "application/vnd.jupyter.widget-view+json": {
       "model_id": "d2f266bca0b64ce28a1722a06677bc2a",
       "version_major": 2,
       "version_minor": 0
      },
      "text/plain": [
       "0it [00:00, ?it/s]"
      ]
     },
     "metadata": {},
     "output_type": "display_data"
    },
    {
     "data": {
      "application/vnd.jupyter.widget-view+json": {
       "model_id": "d99043c9348a4e4d93d1cbb325a27724",
       "version_major": 2,
       "version_minor": 0
      },
      "text/plain": [
       "0it [00:00, ?it/s]"
      ]
     },
     "metadata": {},
     "output_type": "display_data"
    },
    {
     "data": {
      "application/vnd.jupyter.widget-view+json": {
       "model_id": "34a3cd3f68d54edfb664d69b7d94a124",
       "version_major": 2,
       "version_minor": 0
      },
      "text/plain": [
       "0it [00:00, ?it/s]"
      ]
     },
     "metadata": {},
     "output_type": "display_data"
    },
    {
     "data": {
      "application/vnd.jupyter.widget-view+json": {
       "model_id": "4d437219fb2f41199e6add48c42dda0a",
       "version_major": 2,
       "version_minor": 0
      },
      "text/plain": [
       "0it [00:00, ?it/s]"
      ]
     },
     "metadata": {},
     "output_type": "display_data"
    },
    {
     "data": {
      "application/vnd.jupyter.widget-view+json": {
       "model_id": "3e441d3ea3fc4553b2f9254140131c3d",
       "version_major": 2,
       "version_minor": 0
      },
      "text/plain": [
       "  0%|          | 0/1 [00:00<?, ?it/s]"
      ]
     },
     "metadata": {},
     "output_type": "display_data"
    },
    {
     "data": {
      "application/vnd.jupyter.widget-view+json": {
       "model_id": "6327c513f2d4429a8021af3eaa98cd3d",
       "version_major": 2,
       "version_minor": 0
      },
      "text/plain": [
       "0it [00:00, ?it/s]"
      ]
     },
     "metadata": {},
     "output_type": "display_data"
    },
    {
     "data": {
      "application/vnd.jupyter.widget-view+json": {
       "model_id": "b57c22868987425b9636ef2db952ffcc",
       "version_major": 2,
       "version_minor": 0
      },
      "text/plain": [
       "0it [00:00, ?it/s]"
      ]
     },
     "metadata": {},
     "output_type": "display_data"
    },
    {
     "data": {
      "application/vnd.jupyter.widget-view+json": {
       "model_id": "81e8c30a5b5e4911842dd1fac89fa878",
       "version_major": 2,
       "version_minor": 0
      },
      "text/plain": [
       "  0%|          | 0/259 [00:00<?, ?it/s]"
      ]
     },
     "metadata": {},
     "output_type": "display_data"
    },
    {
     "data": {
      "application/vnd.jupyter.widget-view+json": {
       "model_id": "fedc05e00a8348e29ae79c6d0ce8a092",
       "version_major": 2,
       "version_minor": 0
      },
      "text/plain": [
       "  0%|          | 0/253 [00:00<?, ?it/s]"
      ]
     },
     "metadata": {},
     "output_type": "display_data"
    },
    {
     "data": {
      "application/vnd.jupyter.widget-view+json": {
       "model_id": "f5525178c64f46d2bfa252922c8bfb1d",
       "version_major": 2,
       "version_minor": 0
      },
      "text/plain": [
       "  0%|          | 0/257 [00:00<?, ?it/s]"
      ]
     },
     "metadata": {},
     "output_type": "display_data"
    },
    {
     "data": {
      "application/vnd.jupyter.widget-view+json": {
       "model_id": "1795557f671d456da26167433c6b25c1",
       "version_major": 2,
       "version_minor": 0
      },
      "text/plain": [
       "  0%|          | 0/249 [00:00<?, ?it/s]"
      ]
     },
     "metadata": {},
     "output_type": "display_data"
    },
    {
     "data": {
      "application/vnd.jupyter.widget-view+json": {
       "model_id": "46f2e2068e57475d86d46851664f707d",
       "version_major": 2,
       "version_minor": 0
      },
      "text/plain": [
       "  0%|          | 0/30 [00:00<?, ?it/s]"
      ]
     },
     "metadata": {},
     "output_type": "display_data"
    },
    {
     "data": {
      "application/vnd.jupyter.widget-view+json": {
       "model_id": "7edf7fd22c8b4c30ac542b6e95596766",
       "version_major": 2,
       "version_minor": 0
      },
      "text/plain": [
       "  0%|          | 0/30 [00:00<?, ?it/s]"
      ]
     },
     "metadata": {},
     "output_type": "display_data"
    },
    {
     "data": {
      "application/vnd.jupyter.widget-view+json": {
       "model_id": "b8479ab9451e48f4bd3edb537c3d927c",
       "version_major": 2,
       "version_minor": 0
      },
      "text/plain": [
       "  0%|          | 0/30 [00:00<?, ?it/s]"
      ]
     },
     "metadata": {},
     "output_type": "display_data"
    },
    {
     "data": {
      "application/vnd.jupyter.widget-view+json": {
       "model_id": "57bd0c40703747ca96dc0aef22179160",
       "version_major": 2,
       "version_minor": 0
      },
      "text/plain": [
       "  0%|          | 0/30 [00:00<?, ?it/s]"
      ]
     },
     "metadata": {},
     "output_type": "display_data"
    },
    {
     "data": {
      "application/vnd.jupyter.widget-view+json": {
       "model_id": "ce11832d302e45c59aecddf5a16a06f5",
       "version_major": 2,
       "version_minor": 0
      },
      "text/plain": [
       "  0%|          | 0/29 [00:00<?, ?it/s]"
      ]
     },
     "metadata": {},
     "output_type": "display_data"
    },
    {
     "data": {
      "application/vnd.jupyter.widget-view+json": {
       "model_id": "66595e0bc5514ec28af53d175c6e00e5",
       "version_major": 2,
       "version_minor": 0
      },
      "text/plain": [
       "  0%|          | 0/29 [00:00<?, ?it/s]"
      ]
     },
     "metadata": {},
     "output_type": "display_data"
    },
    {
     "data": {
      "application/vnd.jupyter.widget-view+json": {
       "model_id": "44b0e2ccb17b4a93a3478f38b3acb54d",
       "version_major": 2,
       "version_minor": 0
      },
      "text/plain": [
       "  0%|          | 0/29 [00:00<?, ?it/s]"
      ]
     },
     "metadata": {},
     "output_type": "display_data"
    },
    {
     "data": {
      "application/vnd.jupyter.widget-view+json": {
       "model_id": "fe7c92f826bc4a99a7f6f5b6db91c3ba",
       "version_major": 2,
       "version_minor": 0
      },
      "text/plain": [
       "  0%|          | 0/29 [00:00<?, ?it/s]"
      ]
     },
     "metadata": {},
     "output_type": "display_data"
    },
    {
     "data": {
      "application/vnd.jupyter.widget-view+json": {
       "model_id": "80822de6f21c46fbbaa4ab71420d4516",
       "version_major": 2,
       "version_minor": 0
      },
      "text/plain": [
       "  0%|          | 0/29 [00:00<?, ?it/s]"
      ]
     },
     "metadata": {},
     "output_type": "display_data"
    },
    {
     "data": {
      "application/vnd.jupyter.widget-view+json": {
       "model_id": "ce2a5b7791694dd58dd6743a3c5e1714",
       "version_major": 2,
       "version_minor": 0
      },
      "text/plain": [
       "  0%|          | 0/29 [00:00<?, ?it/s]"
      ]
     },
     "metadata": {},
     "output_type": "display_data"
    },
    {
     "name": "stdout",
     "output_type": "stream",
     "text": [
      "results content\n",
      "genres name\n",
      "production_countries name\n",
      "keywords name\n"
     ]
    }
   ],
   "source": [
    "x.get_movies()"
   ]
  },
  {
   "cell_type": "code",
   "execution_count": 9,
   "id": "986f3bf8",
   "metadata": {},
   "outputs": [],
   "source": [
    "x.df.to_csv('movies.csv')"
   ]
  },
  {
   "cell_type": "code",
   "execution_count": 20,
   "id": "67e9892c",
   "metadata": {},
   "outputs": [
    {
     "data": {
      "text/html": [
       "<div>\n",
       "<style scoped>\n",
       "    .dataframe tbody tr th:only-of-type {\n",
       "        vertical-align: middle;\n",
       "    }\n",
       "\n",
       "    .dataframe tbody tr th {\n",
       "        vertical-align: top;\n",
       "    }\n",
       "\n",
       "    .dataframe thead th {\n",
       "        text-align: right;\n",
       "    }\n",
       "</style>\n",
       "<table border=\"1\" class=\"dataframe\">\n",
       "  <thead>\n",
       "    <tr style=\"text-align: right;\">\n",
       "      <th></th>\n",
       "      <th>m_tmdb_id</th>\n",
       "      <th>m_movie</th>\n",
       "      <th>m_overview</th>\n",
       "      <th>m_popularity</th>\n",
       "      <th>m_release_date</th>\n",
       "      <th>m_vote_average</th>\n",
       "      <th>m_poster_path</th>\n",
       "      <th>m_release_year</th>\n",
       "      <th>m_keywords</th>\n",
       "      <th>m_results</th>\n",
       "      <th>m_budget</th>\n",
       "      <th>m_genres</th>\n",
       "      <th>m_production_countries</th>\n",
       "      <th>m_revenue</th>\n",
       "      <th>m_tagline</th>\n",
       "    </tr>\n",
       "  </thead>\n",
       "  <tbody>\n",
       "    <tr>\n",
       "      <th>0</th>\n",
       "      <td>12445</td>\n",
       "      <td>Harry Potter and the Deathly Hallows: Part 2</td>\n",
       "      <td>Harry, Ron and Hermione continue their quest t...</td>\n",
       "      <td>182.818</td>\n",
       "      <td>2011-07-07</td>\n",
       "      <td>8.1</td>\n",
       "      <td>/c54HpQmuwXjHq2C9wmoACjxoom3.jpg</td>\n",
       "      <td>2011</td>\n",
       "      <td>['saving the world', 'witch', 'self sacrifice'...</td>\n",
       "      <td>[\"It is the quality of one's convictions that ...</td>\n",
       "      <td>125000000.0</td>\n",
       "      <td>['Fantasy', 'Adventure']</td>\n",
       "      <td>['United Kingdom', 'United States of America']</td>\n",
       "      <td>1.341511e+09</td>\n",
       "      <td>It all ends here.</td>\n",
       "    </tr>\n",
       "    <tr>\n",
       "      <th>1</th>\n",
       "      <td>49013</td>\n",
       "      <td>Cars 2</td>\n",
       "      <td>Star race car Lightning McQueen and his pal Ma...</td>\n",
       "      <td>169.573</td>\n",
       "      <td>2011-06-11</td>\n",
       "      <td>6.1</td>\n",
       "      <td>/okIz1HyxeVOMzYwwHUjH2pHi74I.jpg</td>\n",
       "      <td>2011</td>\n",
       "      <td>['car race', 'sequel', 'anthropomorphism', 'be...</td>\n",
       "      <td>['Lasseter is smart enough to tell us a comple...</td>\n",
       "      <td>200000000.0</td>\n",
       "      <td>['Animation', 'Family', 'Adventure', 'Comedy']</td>\n",
       "      <td>['United States of America']</td>\n",
       "      <td>5.598524e+08</td>\n",
       "      <td>Ka-ciao!</td>\n",
       "    </tr>\n",
       "  </tbody>\n",
       "</table>\n",
       "</div>"
      ],
      "text/plain": [
       "   m_tmdb_id                                       m_movie  \\\n",
       "0      12445  Harry Potter and the Deathly Hallows: Part 2   \n",
       "1      49013                                        Cars 2   \n",
       "\n",
       "                                          m_overview  m_popularity  \\\n",
       "0  Harry, Ron and Hermione continue their quest t...       182.818   \n",
       "1  Star race car Lightning McQueen and his pal Ma...       169.573   \n",
       "\n",
       "  m_release_date  m_vote_average                     m_poster_path  \\\n",
       "0     2011-07-07             8.1  /c54HpQmuwXjHq2C9wmoACjxoom3.jpg   \n",
       "1     2011-06-11             6.1  /okIz1HyxeVOMzYwwHUjH2pHi74I.jpg   \n",
       "\n",
       "   m_release_year                                         m_keywords  \\\n",
       "0            2011  ['saving the world', 'witch', 'self sacrifice'...   \n",
       "1            2011  ['car race', 'sequel', 'anthropomorphism', 'be...   \n",
       "\n",
       "                                           m_results     m_budget  \\\n",
       "0  [\"It is the quality of one's convictions that ...  125000000.0   \n",
       "1  ['Lasseter is smart enough to tell us a comple...  200000000.0   \n",
       "\n",
       "                                         m_genres  \\\n",
       "0                        ['Fantasy', 'Adventure']   \n",
       "1  ['Animation', 'Family', 'Adventure', 'Comedy']   \n",
       "\n",
       "                           m_production_countries     m_revenue  \\\n",
       "0  ['United Kingdom', 'United States of America']  1.341511e+09   \n",
       "1                    ['United States of America']  5.598524e+08   \n",
       "\n",
       "           m_tagline  \n",
       "0  It all ends here.  \n",
       "1           Ka-ciao!  "
      ]
     },
     "execution_count": 20,
     "metadata": {},
     "output_type": "execute_result"
    }
   ],
   "source": [
    "pd.read_pickle('/Users/saho/Documents/sam/imdb_actor_graph/cached_data/movies.pickle').head(2)"
   ]
  },
  {
   "cell_type": "code",
   "execution_count": 67,
   "id": "2b5ecd21",
   "metadata": {},
   "outputs": [],
   "source": [
    "x = pd.read_csv('movies.csv',index_col=0).reset_index()\n",
    "x.columns = ['m_'+i for i in x.columns]"
   ]
  },
  {
   "cell_type": "code",
   "execution_count": 68,
   "id": "31980346",
   "metadata": {},
   "outputs": [],
   "source": [
    "x = x.rename(columns = {'m_id':'m_tmdb_id'})\n",
    "x.to_pickle('/Users/saho/Documents/sam/imdb_actor_graph/cached_data/movies_new.pickle')"
   ]
  },
  {
   "cell_type": "markdown",
   "id": "1c06edce",
   "metadata": {},
   "source": [
    "### Cast Data"
   ]
  },
  {
   "cell_type": "code",
   "execution_count": 54,
   "id": "902ee4ce",
   "metadata": {},
   "outputs": [],
   "source": [
    "import concurrent.futures\n",
    "\n",
    "class TMDBCastCrewScraper(TMDBMovieScraper):\n",
    "    \n",
    "    def __init__(self, movie_ids: list, popularity_threshold = 1, max_threads=30):\n",
    "        self.movie_ids = movie_ids\n",
    "        self.cast_results = []\n",
    "        self.crew_results = []\n",
    "        self.popularity_threshold = popularity_threshold\n",
    "        self.max_threads = max_threads\n",
    "\n",
    "\n",
    "    def _append_data_to_list(self,list_dic_results, popularity_threshold, results, movie_id):\n",
    "        for dic in list_dic_results:\n",
    "            if dic['popularity'] >= self.popularity_threshold:\n",
    "                dic['tmdb_id'] = movie_id\n",
    "                results.append(dic)\n",
    "\n",
    "\n",
    "    def _get_cast_crew_for_movie(self, movie_id):\n",
    "        try:\n",
    "            film_response = self._get_film_response(movie_id)\n",
    "#             crew_dic_list = film_response.credits()['crew']\n",
    "            cast_dic_list = film_response.credits()['cast']\n",
    "#             self._append_data_to_list(crew_dic_list,self.popularity_threshold,self.crew_results,movie_id)\n",
    "            self._append_data_to_list(cast_dic_list,self.popularity_threshold,self.cast_results,movie_id)\n",
    "\n",
    "        except:\n",
    "            pass\n",
    "\n",
    "    def _get_cast_crew(self, movie_ids):\n",
    "        with concurrent.futures.ThreadPoolExecutor(max_workers=self.max_threads) as executor:\n",
    "            futures = []\n",
    "            for movie_id in movie_ids:\n",
    "                futures.append(executor.submit(self._get_cast_crew_for_movie, movie_id))\n",
    "            concurrent.futures.wait(futures)\n",
    "        return\n"
   ]
  },
  {
   "cell_type": "code",
   "execution_count": 55,
   "id": "869a4c33",
   "metadata": {},
   "outputs": [],
   "source": [
    "mod = TMDBCastCrewScraper(x.index)"
   ]
  },
  {
   "cell_type": "code",
   "execution_count": 56,
   "id": "7dd0a2aa",
   "metadata": {},
   "outputs": [],
   "source": [
    "mod._get_cast_crew(x.index)"
   ]
  },
  {
   "cell_type": "code",
   "execution_count": 63,
   "id": "88b049ad",
   "metadata": {},
   "outputs": [],
   "source": [
    "df_cast = pd.DataFrame(mod.cast_results)"
   ]
  },
  {
   "cell_type": "code",
   "execution_count": 13,
   "id": "4603ae69",
   "metadata": {},
   "outputs": [],
   "source": [
    "df_cast.to_csv('cast.csv',index=False)"
   ]
  },
  {
   "cell_type": "code",
   "execution_count": 64,
   "id": "6a409373",
   "metadata": {},
   "outputs": [],
   "source": [
    "df_cast.columns = ['c_'+i for i in df_cast.columns]"
   ]
  },
  {
   "cell_type": "code",
   "execution_count": 66,
   "id": "5c649810",
   "metadata": {},
   "outputs": [],
   "source": [
    "df_cast.to_pickle('/Users/saho/Documents/sam/imdb_actor_graph/cached_data/cast_new.pickle')"
   ]
  },
  {
   "cell_type": "code",
   "execution_count": 65,
   "id": "2913804b",
   "metadata": {},
   "outputs": [
    {
     "data": {
      "text/html": [
       "<div>\n",
       "<style scoped>\n",
       "    .dataframe tbody tr th:only-of-type {\n",
       "        vertical-align: middle;\n",
       "    }\n",
       "\n",
       "    .dataframe tbody tr th {\n",
       "        vertical-align: top;\n",
       "    }\n",
       "\n",
       "    .dataframe thead th {\n",
       "        text-align: right;\n",
       "    }\n",
       "</style>\n",
       "<table border=\"1\" class=\"dataframe\">\n",
       "  <thead>\n",
       "    <tr style=\"text-align: right;\">\n",
       "      <th></th>\n",
       "      <th>c_adult</th>\n",
       "      <th>c_gender</th>\n",
       "      <th>c_id</th>\n",
       "      <th>c_known_for_department</th>\n",
       "      <th>c_name</th>\n",
       "      <th>c_original_name</th>\n",
       "      <th>c_popularity</th>\n",
       "      <th>c_profile_path</th>\n",
       "      <th>c_cast_id</th>\n",
       "      <th>c_character</th>\n",
       "      <th>c_credit_id</th>\n",
       "      <th>c_order</th>\n",
       "      <th>c_tmdb_id</th>\n",
       "    </tr>\n",
       "  </thead>\n",
       "  <tbody>\n",
       "    <tr>\n",
       "      <th>0</th>\n",
       "      <td>False</td>\n",
       "      <td>1</td>\n",
       "      <td>49</td>\n",
       "      <td>Acting</td>\n",
       "      <td>Maria Bello</td>\n",
       "      <td>Maria Bello</td>\n",
       "      <td>24.405</td>\n",
       "      <td>/it1f5mxiGIWO0DzTBfwtLTjphZb.jpg</td>\n",
       "      <td>5</td>\n",
       "      <td>Adèlle</td>\n",
       "      <td>52fe420fc3a36847f8000a93</td>\n",
       "      <td>0</td>\n",
       "      <td>17</td>\n",
       "    </tr>\n",
       "    <tr>\n",
       "      <th>1</th>\n",
       "      <td>False</td>\n",
       "      <td>2</td>\n",
       "      <td>48</td>\n",
       "      <td>Acting</td>\n",
       "      <td>Sean Bean</td>\n",
       "      <td>Sean Bean</td>\n",
       "      <td>36.837</td>\n",
       "      <td>/kTjiABk3TJ3yI0Cto5RsvyT6V3o.jpg</td>\n",
       "      <td>4</td>\n",
       "      <td>James</td>\n",
       "      <td>52fe420fc3a36847f8000a8f</td>\n",
       "      <td>1</td>\n",
       "      <td>17</td>\n",
       "    </tr>\n",
       "    <tr>\n",
       "      <th>2</th>\n",
       "      <td>False</td>\n",
       "      <td>2</td>\n",
       "      <td>51</td>\n",
       "      <td>Acting</td>\n",
       "      <td>Richard Elfyn</td>\n",
       "      <td>Richard Elfyn</td>\n",
       "      <td>1.349</td>\n",
       "      <td>/vaj3r7Wfezb5j2eVv7dIFiJXyyQ.jpg</td>\n",
       "      <td>6</td>\n",
       "      <td>Rowan</td>\n",
       "      <td>52fe420fc3a36847f8000a97</td>\n",
       "      <td>3</td>\n",
       "      <td>17</td>\n",
       "    </tr>\n",
       "    <tr>\n",
       "      <th>3</th>\n",
       "      <td>False</td>\n",
       "      <td>2</td>\n",
       "      <td>54</td>\n",
       "      <td>Acting</td>\n",
       "      <td>Maurice Roëves</td>\n",
       "      <td>Maurice Roëves</td>\n",
       "      <td>2.348</td>\n",
       "      <td>/3WT7GhYloKzgiizP5pahruFbBOD.jpg</td>\n",
       "      <td>7</td>\n",
       "      <td>Dafydd</td>\n",
       "      <td>52fe420fc3a36847f8000a9b</td>\n",
       "      <td>4</td>\n",
       "      <td>17</td>\n",
       "    </tr>\n",
       "    <tr>\n",
       "      <th>4</th>\n",
       "      <td>False</td>\n",
       "      <td>1</td>\n",
       "      <td>56</td>\n",
       "      <td>Acting</td>\n",
       "      <td>Sophie Stuckey</td>\n",
       "      <td>Sophie Stuckey</td>\n",
       "      <td>8.263</td>\n",
       "      <td>/47JMpGYirQe8C7neteGzaSVCKjc.jpg</td>\n",
       "      <td>9</td>\n",
       "      <td>Sarah</td>\n",
       "      <td>52fe420fc3a36847f8000aa3</td>\n",
       "      <td>5</td>\n",
       "      <td>17</td>\n",
       "    </tr>\n",
       "    <tr>\n",
       "      <th>...</th>\n",
       "      <td>...</td>\n",
       "      <td>...</td>\n",
       "      <td>...</td>\n",
       "      <td>...</td>\n",
       "      <td>...</td>\n",
       "      <td>...</td>\n",
       "      <td>...</td>\n",
       "      <td>...</td>\n",
       "      <td>...</td>\n",
       "      <td>...</td>\n",
       "      <td>...</td>\n",
       "      <td>...</td>\n",
       "      <td>...</td>\n",
       "    </tr>\n",
       "    <tr>\n",
       "      <th>116076</th>\n",
       "      <td>False</td>\n",
       "      <td>2</td>\n",
       "      <td>935612</td>\n",
       "      <td>Acting</td>\n",
       "      <td>Tomasz Sapryk</td>\n",
       "      <td>Tomasz Sapryk</td>\n",
       "      <td>2.260</td>\n",
       "      <td>/9YR9wo2Ri5GQlwwF4bnfoa3JU3j.jpg</td>\n",
       "      <td>26</td>\n",
       "      <td>Sierżant Styś</td>\n",
       "      <td>602e4691db4ed6003e6e6e17</td>\n",
       "      <td>14</td>\n",
       "      <td>10819</td>\n",
       "    </tr>\n",
       "    <tr>\n",
       "      <th>116077</th>\n",
       "      <td>False</td>\n",
       "      <td>0</td>\n",
       "      <td>965560</td>\n",
       "      <td>Acting</td>\n",
       "      <td>Jarosław Gruda</td>\n",
       "      <td>Jarosław Gruda</td>\n",
       "      <td>1.788</td>\n",
       "      <td>/zVHgfbE4a3KyYQnA2YWvbw6Ftt1.jpg</td>\n",
       "      <td>31</td>\n",
       "      <td>Wujek Rysiek</td>\n",
       "      <td>602e5111c3bffe004035d23a</td>\n",
       "      <td>19</td>\n",
       "      <td>10819</td>\n",
       "    </tr>\n",
       "    <tr>\n",
       "      <th>116078</th>\n",
       "      <td>False</td>\n",
       "      <td>0</td>\n",
       "      <td>136679</td>\n",
       "      <td>Acting</td>\n",
       "      <td>Agata Piotrowska</td>\n",
       "      <td>Agata Piotrowska</td>\n",
       "      <td>1.094</td>\n",
       "      <td>/b08BW9HsDKA6t6frwhuRvpTnDzn.jpg</td>\n",
       "      <td>34</td>\n",
       "      <td>Druhna</td>\n",
       "      <td>602e523a8e2ba6003f16eb2e</td>\n",
       "      <td>22</td>\n",
       "      <td>10819</td>\n",
       "    </tr>\n",
       "    <tr>\n",
       "      <th>116079</th>\n",
       "      <td>False</td>\n",
       "      <td>2</td>\n",
       "      <td>2129343</td>\n",
       "      <td>Acting</td>\n",
       "      <td>Zbigniew Paterak</td>\n",
       "      <td>Zbigniew Paterak</td>\n",
       "      <td>1.411</td>\n",
       "      <td>/kOl8rtonHbBAjTmoAfxjL47jP05.jpg</td>\n",
       "      <td>35</td>\n",
       "      <td>Stasiuk</td>\n",
       "      <td>602e525587e63e003f9544bd</td>\n",
       "      <td>23</td>\n",
       "      <td>10819</td>\n",
       "    </tr>\n",
       "    <tr>\n",
       "      <th>116080</th>\n",
       "      <td>False</td>\n",
       "      <td>2</td>\n",
       "      <td>1138914</td>\n",
       "      <td>Acting</td>\n",
       "      <td>Witold Wielinski</td>\n",
       "      <td>Witold Wielinski</td>\n",
       "      <td>1.658</td>\n",
       "      <td>/yPyG6YVjnH5jdlUim7Q9DL2UUON.jpg</td>\n",
       "      <td>36</td>\n",
       "      <td>Gruby</td>\n",
       "      <td>602e526e44ea541074d42d9b</td>\n",
       "      <td>24</td>\n",
       "      <td>10819</td>\n",
       "    </tr>\n",
       "  </tbody>\n",
       "</table>\n",
       "<p>116081 rows × 13 columns</p>\n",
       "</div>"
      ],
      "text/plain": [
       "        c_adult  c_gender     c_id c_known_for_department            c_name  \\\n",
       "0         False         1       49                 Acting       Maria Bello   \n",
       "1         False         2       48                 Acting         Sean Bean   \n",
       "2         False         2       51                 Acting     Richard Elfyn   \n",
       "3         False         2       54                 Acting    Maurice Roëves   \n",
       "4         False         1       56                 Acting    Sophie Stuckey   \n",
       "...         ...       ...      ...                    ...               ...   \n",
       "116076    False         2   935612                 Acting     Tomasz Sapryk   \n",
       "116077    False         0   965560                 Acting    Jarosław Gruda   \n",
       "116078    False         0   136679                 Acting  Agata Piotrowska   \n",
       "116079    False         2  2129343                 Acting  Zbigniew Paterak   \n",
       "116080    False         2  1138914                 Acting  Witold Wielinski   \n",
       "\n",
       "         c_original_name  c_popularity                    c_profile_path  \\\n",
       "0            Maria Bello        24.405  /it1f5mxiGIWO0DzTBfwtLTjphZb.jpg   \n",
       "1              Sean Bean        36.837  /kTjiABk3TJ3yI0Cto5RsvyT6V3o.jpg   \n",
       "2          Richard Elfyn         1.349  /vaj3r7Wfezb5j2eVv7dIFiJXyyQ.jpg   \n",
       "3         Maurice Roëves         2.348  /3WT7GhYloKzgiizP5pahruFbBOD.jpg   \n",
       "4         Sophie Stuckey         8.263  /47JMpGYirQe8C7neteGzaSVCKjc.jpg   \n",
       "...                  ...           ...                               ...   \n",
       "116076     Tomasz Sapryk         2.260  /9YR9wo2Ri5GQlwwF4bnfoa3JU3j.jpg   \n",
       "116077    Jarosław Gruda         1.788  /zVHgfbE4a3KyYQnA2YWvbw6Ftt1.jpg   \n",
       "116078  Agata Piotrowska         1.094  /b08BW9HsDKA6t6frwhuRvpTnDzn.jpg   \n",
       "116079  Zbigniew Paterak         1.411  /kOl8rtonHbBAjTmoAfxjL47jP05.jpg   \n",
       "116080  Witold Wielinski         1.658  /yPyG6YVjnH5jdlUim7Q9DL2UUON.jpg   \n",
       "\n",
       "        c_cast_id    c_character               c_credit_id  c_order  c_tmdb_id  \n",
       "0               5         Adèlle  52fe420fc3a36847f8000a93        0         17  \n",
       "1               4          James  52fe420fc3a36847f8000a8f        1         17  \n",
       "2               6          Rowan  52fe420fc3a36847f8000a97        3         17  \n",
       "3               7         Dafydd  52fe420fc3a36847f8000a9b        4         17  \n",
       "4               9          Sarah  52fe420fc3a36847f8000aa3        5         17  \n",
       "...           ...            ...                       ...      ...        ...  \n",
       "116076         26  Sierżant Styś  602e4691db4ed6003e6e6e17       14      10819  \n",
       "116077         31   Wujek Rysiek  602e5111c3bffe004035d23a       19      10819  \n",
       "116078         34         Druhna  602e523a8e2ba6003f16eb2e       22      10819  \n",
       "116079         35        Stasiuk  602e525587e63e003f9544bd       23      10819  \n",
       "116080         36          Gruby  602e526e44ea541074d42d9b       24      10819  \n",
       "\n",
       "[116081 rows x 13 columns]"
      ]
     },
     "execution_count": 65,
     "metadata": {},
     "output_type": "execute_result"
    }
   ],
   "source": [
    "df_cast"
   ]
  },
  {
   "cell_type": "markdown",
   "id": "plastic-behalf",
   "metadata": {},
   "source": [
    "# Get Tag and Movie Poster\n",
    "--"
   ]
  },
  {
   "cell_type": "code",
   "execution_count": null,
   "id": "apparent-battery",
   "metadata": {},
   "outputs": [],
   "source": [
    "def get_film_response(film_id):\n",
    "    film_response = tmdb.Movies(film_id)\n",
    "    return film_response"
   ]
  },
  {
   "cell_type": "code",
   "execution_count": null,
   "id": "great-mercury",
   "metadata": {
    "code_folding": []
   },
   "outputs": [],
   "source": [
    "def build_film_dic(film_id,film_response):\n",
    "    film_dic = {}\n",
    "    \n",
    "    try:\n",
    "        film_dic['tmdb_id'] = film_id\n",
    "    except:\n",
    "        film_dic['tmdb_id'] = np.nan\n",
    "        \n",
    "    try:\n",
    "        film_dic['poster_path'] = 'https://image.tmdb.org/t/p/w500'+film_response.info()['poster_path']  \n",
    "    except:\n",
    "        film_dic['poster_path'] = np.nan\n",
    "    \n",
    "    try:\n",
    "        film_dic['tagline'] = film_response.info()['tagline']   \n",
    "    except:\n",
    "        film_dic['tagline'] = np.nan\n",
    "    \n",
    "   \n",
    "    \n",
    "    return film_dic\n",
    "    \n"
   ]
  },
  {
   "cell_type": "code",
   "execution_count": null,
   "id": "dimensional-eight",
   "metadata": {},
   "outputs": [],
   "source": [
    "all_results = []"
   ]
  },
  {
   "cell_type": "code",
   "execution_count": null,
   "id": "preliminary-ribbon",
   "metadata": {},
   "outputs": [],
   "source": [
    "def get_film_details(film_ids):\n",
    "    \n",
    "    for film_id in tqdm(film_ids):\n",
    "      \n",
    "\n",
    "        film_response = get_film_response(film_id)\n",
    "        film_dic = build_film_dic(film_id,film_response)\n",
    "        all_results.append(film_dic)\n",
    "\n",
    "            \n",
    "    return results"
   ]
  },
  {
   "cell_type": "code",
   "execution_count": null,
   "id": "weird-zoning",
   "metadata": {},
   "outputs": [],
   "source": [
    "x = pd.read_json('/Users/sam.ho/Documents/sam_personal/streamlit_apps/imdb_network_analysis/data/main/tmdb_data_main.json')"
   ]
  },
  {
   "cell_type": "code",
   "execution_count": null,
   "id": "fifty-order",
   "metadata": {},
   "outputs": [],
   "source": [
    "x['tmdb_id'].to_list()"
   ]
  },
  {
   "cell_type": "code",
   "execution_count": null,
   "id": "automated-router",
   "metadata": {},
   "outputs": [],
   "source": [
    "mt = MultiThreading(20,x['tmdb_id'].to_list(),all_results)"
   ]
  },
  {
   "cell_type": "code",
   "execution_count": null,
   "id": "married-stephen",
   "metadata": {},
   "outputs": [],
   "source": [
    "mt.Run(get_film_details)"
   ]
  },
  {
   "cell_type": "code",
   "execution_count": null,
   "id": "subtle-senate",
   "metadata": {},
   "outputs": [],
   "source": [
    "y = pd.DataFrame(all_results)"
   ]
  },
  {
   "cell_type": "code",
   "execution_count": null,
   "id": "embedded-vampire",
   "metadata": {},
   "outputs": [],
   "source": [
    "df_use = pd.merge(x,y,how='left')"
   ]
  },
  {
   "cell_type": "code",
   "execution_count": null,
   "id": "specific-metallic",
   "metadata": {},
   "outputs": [],
   "source": [
    "df_use.to_json('/Users/sam.ho/Documents/sam_personal/streamlit_apps/imdb_network_analysis/data/main/tmdb_data_main.json')"
   ]
  },
  {
   "cell_type": "markdown",
   "id": "4664d965",
   "metadata": {},
   "source": [
    "# New Class - check"
   ]
  },
  {
   "cell_type": "code",
   "execution_count": null,
   "id": "c5815b65",
   "metadata": {},
   "outputs": [],
   "source": [
    "import tmdb.simple as tmdb\n",
    "import pandas as pd\n",
    "from tqdm import tqdm\n",
    "\n",
    "\n",
    "class TMDBMovieScraper:\n",
    "    def __init__(self, years_check: list):\n",
    "        \"\"\"\n",
    "        Initializes the TMDBMovieScraper class with a list of years to iterate over for querying movie data from TMDB.\n",
    "        \n",
    "        Args:\n",
    "            years_check (list): List of years to iterate over for querying movie data.\n",
    "        \"\"\"\n",
    "        self.discover_api = tmdb.Discover()  # Instantiate tmdb.Discover module\n",
    "        self.years_check = years_check  # List of years to iterate over\n",
    "        self.discover_results = []  # Results for movie discovery\n",
    "        self.movie_payload = self.get_movie_payload()  # Get an empty movie payload\n",
    "\n",
    "    def _check_page_counts(self, discover_api, year: int):\n",
    "        \"\"\"\n",
    "        Helper method to check the number of response pages to iterate over for a specific year.\n",
    "        \n",
    "        Args:\n",
    "            discover_api (tmdb.Discover): Instance of tmdb.Discover module.\n",
    "            year (int): Year to query.\n",
    "        \n",
    "        Returns:\n",
    "            total_pages_to_loop (int): Number of response pages to iterate over.\n",
    "        \"\"\"\n",
    "        total_pages_to_loop = discover_api.movie(year=year, page=1)['total_pages']\n",
    "        return total_pages_to_loop\n",
    "\n",
    "    def _request_discover_data(self, years_check: list):\n",
    "        \"\"\"\n",
    "        Helper method to query movie data using the discover API.\n",
    "        \n",
    "        Args:\n",
    "            years_check (list): List of years to iterate over for querying movie data.\n",
    "        \"\"\"\n",
    "        for year in tqdm(years_check):  # For each year\n",
    "            try:\n",
    "                total_pages_to_loop = self._check_page_counts(self.discover_api, year)  # Check number of pages\n",
    "\n",
    "                for page in tqdm(range(1, total_pages_to_loop)):  # For each page in a given year\n",
    "                    try:\n",
    "                        movie_results = self.discover_api.movie(primary_release_year=year,\n",
    "                                                                page=page,\n",
    "                                                                with_original_language='en',\n",
    "                                                                include_adult=False,\n",
    "                                                                vote_count_gte=100)\n",
    "\n",
    "                        self.discover_results.append(movie_results['results'])  # Append results to a list\n",
    "                    except:\n",
    "                        pass\n",
    "            except:\n",
    "                pass\n",
    "\n",
    "    def _request_movie_data(self, movie_ids: list):\n",
    "        \"\"\"\n",
    "        Helper method to query movie details using movie IDs.\n",
    "        \n",
    "        Args:\n",
    "            movie_ids (list): List of movie IDs.\n",
    "        \"\"\"\n",
    "        for movie_id in tqdm(movie_ids):  # Iterate over each movie ID\n",
    "            try:\n",
    "                for k, v in self.movie_payload.items():  # Iterate over each key and value in payload\n",
    "                    v['movie_response'] = self._get_film_responses(movie_id, k)  # Get film response from API instance\n",
    "\n",
    "                    v['results_parsed'].append(self._parse_movie_response(v['movie_response'], v['cols']))\n",
    "            except:\n",
    "                pass\n",
    "\n",
    "    def _transform_discover_results(self, discover_results):\n",
    "        \"\"\"\n",
    "        Helper method to transform discover results into a DataFrame.\n",
    "        \n",
    "        Args:\n",
    "            discover_results: Results from movie discovery.\n",
    "        \n",
    "        Returns:\n",
    "            discover_df (pd.DataFrame): Transformed DataFrame of discover results.\n",
    "        \"\"\"\n",
    "        discover_df = pd.concat(pd.DataFrame(i) for i in discover_results)\n",
    "        discover_df = discover_df[['id', 'title', 'overview', 'popularity', 'release_date', 'vote_average', 'poster_path']]\n",
    "        discover_df['release_year'] = discover_df['release_date'].apply(lambda x: x.split(\"-\")[0])\n",
    "        \n",
    "        return discover_df.set_index('id')\n",
    "\n",
    "    def _transform_movie_results(self):\n",
    "        \"\"\"\n",
    "        Helper method to transform movie results into a DataFrame.\n",
    "        \n",
    "        Returns:\n",
    "            movie_df (pd.DataFrame): Transformed DataFrame of movie results.\n",
    "        \"\"\"\n",
    "        results = [pd.DataFrame(self.movie_payload[k]['results_parsed']).set_index('id') for k, v in self.movie_payload.items()]\n",
    "        movie_df = results[0].join(results[1]).join(results[2])\n",
    "        return movie_df\n",
    "\n",
    "    def _get_movie_ids(self, discover_dataframe):\n",
    "        \"\"\"\n",
    "        Helper method to retrieve movie IDs from the discover DataFrame.\n",
    "        \n",
    "        Args:\n",
    "            discover_dataframe (pd.DataFrame): DataFrame of discover results.\n",
    "        \n",
    "        Returns:\n",
    "            movie_ids (list): List of movie IDs.\n",
    "        \"\"\"\n",
    "        movie_ids = list(discover_dataframe.index)\n",
    "        return list(set(movie_ids))\n",
    "\n",
    "    def _get_film_response(self, movie_id):\n",
    "        \"\"\"\n",
    "        Helper method to get film response from TMDB API.\n",
    "        \n",
    "        Args:\n",
    "            movie_id: ID of the movie.\n",
    "        \n",
    "        Returns:\n",
    "            film_response: Film response from TMDB API.\n",
    "        \"\"\"\n",
    "        film_response = tmdb.Movies(movie_id)\n",
    "        return film_response\n",
    "\n",
    "    def _get_film_responses(self, movie_id, data_stream='info'):\n",
    "        \"\"\"\n",
    "        Helper method to get film responses based on data stream type.\n",
    "        \n",
    "        Args:\n",
    "            movie_id: ID of the movie.\n",
    "            data_stream (str): Data stream type.\n",
    "        \n",
    "        Returns:\n",
    "            film_response: Film response based on the specified data stream.\n",
    "        \"\"\"\n",
    "        film_response = self._get_film_response(movie_id)\n",
    "        if data_stream == 'reviews':\n",
    "            return film_response.reviews()\n",
    "        elif data_stream == 'info':\n",
    "            return film_response.info()\n",
    "        elif data_stream == 'keywords':\n",
    "            return film_response.keywords()\n",
    "\n",
    "    def _parse_movie_response(self, response_dic, cols_needed):\n",
    "        \"\"\"\n",
    "        Helper method to parse movie response based on the required columns.\n",
    "        \n",
    "        Args:\n",
    "            response_dic: Movie response dictionary.\n",
    "            cols_needed (list): Required columns.\n",
    "        \n",
    "        Returns:\n",
    "            parsed_response (dict): Parsed movie response containing the required columns.\n",
    "        \"\"\"\n",
    "        parsed_response = {k: v for k, v in response_dic.items() if k in cols_needed}\n",
    "        return parsed_response\n",
    "\n",
    "    def _dict_to_list(self, x, key_name):\n",
    "        \"\"\"\n",
    "        Helper method to convert a dictionary to a list based on a specific key.\n",
    "        \n",
    "        Args:\n",
    "            x: Input dictionary.\n",
    "            key_name (str): Key name.\n",
    "        \n",
    "        Returns:\n",
    "            converted_list: List converted from the dictionary.\n",
    "        \"\"\"\n",
    "        try:\n",
    "            return [i[key_name] for i in x]\n",
    "        except:\n",
    "            return x\n",
    "\n",
    "    def _merge_clean_and_filter(self):\n",
    "        \"\"\"\n",
    "        Helper method to merge, clean, and filter the movie DataFrame.\n",
    "        \n",
    "        Returns:\n",
    "            df (pd.DataFrame): Merged, cleaned, and filtered DataFrame.\n",
    "        \"\"\"\n",
    "        self.df = self.discover_df.join(self.movie_df)\n",
    "        \n",
    "        cols = {'results': 'content', 'genres': 'name', 'production_countries': 'name', 'keywords': 'name'}\n",
    "        \n",
    "        for k, v in cols.items():\n",
    "            self.df[k] = self.df[k].apply(lambda x: self._dict_to_list(x, v))\n",
    "            print(k, v)\n",
    "            \n",
    "        self.df = self.df.rename(columns={'id': 'tmdb_id', 'title': 'movie'})\n",
    "        \n",
    "        return self.df\n",
    "\n",
    "    def get_movies(self):\n",
    "        \"\"\"\n",
    "        Method to initiate the data retrieval process.\n",
    "        \"\"\"\n",
    "        mt = MultiThreading(10, self.years_check, None)\n",
    "        mt.Run(self._request_discover_data)\n",
    "        \n",
    "        self.discover_df = self._\n"
   ]
  }
 ],
 "metadata": {
  "kernelspec": {
   "display_name": "Python 3 (ipykernel)",
   "language": "python",
   "name": "python3"
  },
  "language_info": {
   "codemirror_mode": {
    "name": "ipython",
    "version": 3
   },
   "file_extension": ".py",
   "mimetype": "text/x-python",
   "name": "python",
   "nbconvert_exporter": "python",
   "pygments_lexer": "ipython3",
   "version": "3.10.10"
  }
 },
 "nbformat": 4,
 "nbformat_minor": 5
}
