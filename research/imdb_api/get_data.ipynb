{
 "cells": [
  {
   "cell_type": "code",
   "execution_count": 1,
   "id": "younger-proceeding",
   "metadata": {},
   "outputs": [],
   "source": [
    "import pandas as pd\n",
    "import numpy as np\n",
    "import sys\n",
    "\n",
    "import os\n",
    "\n",
    "from tqdm.notebook import tqdm\n",
    "import json"
   ]
  },
  {
   "cell_type": "code",
   "execution_count": 2,
   "id": "40fbadc9",
   "metadata": {},
   "outputs": [],
   "source": [
    "sys.path.append('/'.join(os.getcwd().split(\"/\")[:-1])+\"/backend/\")"
   ]
  },
  {
   "cell_type": "code",
   "execution_count": 3,
   "id": "73bf09f1",
   "metadata": {},
   "outputs": [],
   "source": [
    "from data_collection import MultiThreading"
   ]
  },
  {
   "cell_type": "code",
   "execution_count": 4,
   "id": "foreign-mother",
   "metadata": {},
   "outputs": [],
   "source": [
    "import tmdbsimple as tmdb\n",
    "tmdb.API_KEY = '03ba24122703f9cff69789b9ebbd342e'"
   ]
  },
  {
   "cell_type": "markdown",
   "id": "5026055a",
   "metadata": {},
   "source": [
    "### Main Film Data"
   ]
  },
  {
   "cell_type": "code",
   "execution_count": 12,
   "id": "07a7b066",
   "metadata": {},
   "outputs": [],
   "source": [
    "def get_movie_payload():\n",
    "    \n",
    "    movie_payload = {'keywords':{'movie_response':[],'cols':['id','keywords'],'results_parsed':[]},\n",
    "                     'reviews':{'movie_response':[],'cols':['id','results'],'results_parsed':[]},\n",
    "                     'info':{'movie_response':[],'cols':['id','budget', 'revenue','genres','production_countries','tagline'],'results_parsed':[]}}\n",
    "    \n",
    "    return movie_payload\n"
   ]
  },
  {
   "cell_type": "code",
   "execution_count": 5,
   "id": "2358e8b7",
   "metadata": {},
   "outputs": [],
   "source": [
    "class TMDBMovieScraper:\n",
    "    def __init__(self, years_check: list):\n",
    "        \n",
    "        \"\"\"\n",
    "        This class uses the tmdbsimple library to query film information from tmdb.com\n",
    "        The discover api first queries movies that were released in a year and then \n",
    "        the movies api queries more detail about films using the tmdb ids queried from the discover api\n",
    "        \n",
    "        \n",
    "        \"\"\"\n",
    "        self.discover_api = tmdb.Discover() # instantiate tmdb.Discover module\n",
    "        self.years_check = years_check # the years to ierate through\n",
    "        self.discover_results = [] # results for\n",
    "        self.movie_payload = get_movie_payload() # get an empty movie payload\n",
    "        \n",
    "    \n",
    "    def _check_page_counts(self, discover_api, year: int):\n",
    "        \"\"\"\n",
    "        Args:\n",
    "            discover_api - instance of tmdb.Discover()\n",
    "            year - a year to query\n",
    "        Returns\n",
    "            total_pages_to_loop - The number of response pages to iterate over\n",
    "        \"\"\"\n",
    "        \n",
    "        total_pages_to_loop = discover_api.movie(year=year,page=1)['total_pages']\n",
    "        return total_pages_to_loop\n",
    "    \n",
    "    def _request_discover_data(self, years_check: list):\n",
    "        \n",
    "        \"\"\"\n",
    "        Args:\n",
    "            years_check - list of years to iterate over\n",
    "        Returns\n",
    "            nothing\n",
    "        \"\"\"\n",
    "        \n",
    "        for year in tqdm(years_check): # for each year\n",
    "            try:\n",
    "                # check how many pages to loop over for the specific year\n",
    "                total_pages_to_loop = self._check_page_counts(self.discover_api, year) \n",
    "\n",
    "                for page in tqdm(range(1,total_pages_to_loop)): # for each page in a given year\n",
    "                    try:\n",
    "                        # get movie results for that year and that page\n",
    "                        movie_results = self.discover_api.movie(primary_release_year=year, \n",
    "                                                                page=page, \n",
    "                                                                with_original_language='en', \n",
    "                                                                include_adult=False, \n",
    "                                                                vote_count_gte=100)\n",
    "                        \n",
    "                        self.discover_results.append(movie_results['results']) # append results to a list\n",
    "                    except:\n",
    "                        pass\n",
    "            except:\n",
    "                pass\n",
    "    \n",
    "    def _request_movie_data(self, movie_ids: list):\n",
    "        \"\"\"\n",
    "        Args:\n",
    "            movie_ids - list of movie ids\n",
    "        Returns\n",
    "            Nothing\n",
    "        \"\"\"\n",
    "        \n",
    "        for movie_id in tqdm(movie_ids): # iterate over each movie id\n",
    "            try:\n",
    "                for k,v in self.movie_payload.items(): # iterate over each key and value in payload\n",
    "                    v['movie_response'] = self._get_film_responses(movie_id,k) # get film response from api instance\n",
    "                    \n",
    "                    v['results_parsed'].append(self._parse_movie_response(v['movie_response'],v['cols']))\n",
    "            except:\n",
    "                pass\n",
    "\n",
    "    \n",
    "            \n",
    "    def _transform_discover_results(self, discover_results):\n",
    "        discover_df = pd.concat(pd.DataFrame(i) for i in discover_results)\n",
    "        discover_df = discover_df[['id','title','overview','popularity', 'release_date','vote_average','poster_path']]\n",
    "        discover_df['release_year'] = discover_df['release_date'].apply(lambda x: x.split(\"-\")[0])\n",
    "        \n",
    "        return discover_df.set_index('id')\n",
    "    \n",
    "    def _transform_movie_results(self):\n",
    "        results = [pd.DataFrame(self.movie_payload[k]['results_parsed']).set_index('id') for k,v in self.movie_payload.items()]\n",
    "        self.movie_df = results[0].join(results[1]).join(results[2])\n",
    "        return self.movie_df\n",
    "    \n",
    "    def _get_movie_ids(self, discover_dataframe):\n",
    "        movie_ids = list(discover_dataframe.index)\n",
    "        return list(set(movie_ids))\n",
    "    \n",
    "    def _get_film_response(self, movie_id):\n",
    "        film_response = tmdb.Movies(movie_id)\n",
    "        return film_response\n",
    "    \n",
    "    def _get_film_responses(self, movie_id, data_stream='info'):\n",
    "        film_response = self._get_film_response(movie_id)\n",
    "        if data_stream == 'reviews':\n",
    "            return film_response.reviews()\n",
    "        elif data_stream == 'info':\n",
    "            return film_response.info()\n",
    "        elif data_stream == 'keywords':\n",
    "            return film_response.keywords()\n",
    "        \n",
    "    def _parse_movie_response(self, response_dic, cols_needed):\n",
    "        return {k:v for k,v in response_dic.items() if k in cols_needed}\n",
    "    \n",
    "\n",
    "    def _dict_to_list(self, x, key_name):\n",
    "        try:\n",
    "            return [i[key_name] for i in x]\n",
    "        except:\n",
    "            return x\n",
    "    \n",
    "    def _merge_clean_and_filter(self):\n",
    "        \n",
    "        \n",
    "        self.df = self.discover_df.join(self.movie_df)\n",
    "        \n",
    "        cols = {'results':'content', 'genres':'name', 'production_countries':'name', 'keywords':'name'}\n",
    "        \n",
    "        for k,v in cols.items():\n",
    "            \n",
    "            self.df[k] = self.df[k].apply(lambda x: self._dict_to_list(x,v))\n",
    "            print(k,v)\n",
    "            \n",
    "        self.df = self.df.rename(columns={'id':'tmdb_id','title':'movie'})\n",
    "        \n",
    "        \n",
    "        return self.df\n",
    "    \n",
    "                \n",
    "    def get_movies(self):\n",
    "        mt = MultiThreading(10,self.years_check, None)\n",
    "        mt.Run(self._request_discover_data)\n",
    "        \n",
    "        \n",
    "        self.discover_df = self._transform_discover_results(self.discover_results)\n",
    "        self.movie_ids = self._get_movie_ids(self.discover_df)\n",
    "        mt = MultiThreading(10,self.movie_ids,None)\n",
    "        mt.Run(self._request_movie_data)\n",
    "        \n",
    "        self.movie_df = self._transform_movie_results()\n",
    "        self._merge_clean_and_filter()\n",
    "        \n",
    "        \n",
    "   "
   ]
  },
  {
   "cell_type": "code",
   "execution_count": 27,
   "id": "7387ff8f",
   "metadata": {},
   "outputs": [],
   "source": [
    "x = TMDBMovieScraper(list(range(1990,1991)))"
   ]
  },
  {
   "cell_type": "code",
   "execution_count": 28,
   "id": "fc0546e3",
   "metadata": {
    "scrolled": false
   },
   "outputs": [
    {
     "data": {
      "application/vnd.jupyter.widget-view+json": {
       "model_id": "0895f43f79854fcbb7f878c99ea76c3e",
       "version_major": 2,
       "version_minor": 0
      },
      "text/plain": [
       "0it [00:00, ?it/s]"
      ]
     },
     "metadata": {},
     "output_type": "display_data"
    },
    {
     "data": {
      "application/vnd.jupyter.widget-view+json": {
       "model_id": "578c60bc07754d7dabc6ff690f55a1f4",
       "version_major": 2,
       "version_minor": 0
      },
      "text/plain": [
       "0it [00:00, ?it/s]"
      ]
     },
     "metadata": {},
     "output_type": "display_data"
    },
    {
     "data": {
      "application/vnd.jupyter.widget-view+json": {
       "model_id": "1348986448de4591a9fa9cfd7aca5f76",
       "version_major": 2,
       "version_minor": 0
      },
      "text/plain": [
       "0it [00:00, ?it/s]"
      ]
     },
     "metadata": {},
     "output_type": "display_data"
    },
    {
     "data": {
      "application/vnd.jupyter.widget-view+json": {
       "model_id": "25d3495f6ffd4788a8567f922360bc4e",
       "version_major": 2,
       "version_minor": 0
      },
      "text/plain": [
       "0it [00:00, ?it/s]"
      ]
     },
     "metadata": {},
     "output_type": "display_data"
    },
    {
     "data": {
      "application/vnd.jupyter.widget-view+json": {
       "model_id": "694c6b25f49c424ca72e8218a8b4c9fd",
       "version_major": 2,
       "version_minor": 0
      },
      "text/plain": [
       "0it [00:00, ?it/s]"
      ]
     },
     "metadata": {},
     "output_type": "display_data"
    },
    {
     "data": {
      "application/vnd.jupyter.widget-view+json": {
       "model_id": "f61c1b9f1d0a41d284f3a9f97958d61b",
       "version_major": 2,
       "version_minor": 0
      },
      "text/plain": [
       "0it [00:00, ?it/s]"
      ]
     },
     "metadata": {},
     "output_type": "display_data"
    },
    {
     "data": {
      "application/vnd.jupyter.widget-view+json": {
       "model_id": "043d105dfc014948b404ee6d5565a179",
       "version_major": 2,
       "version_minor": 0
      },
      "text/plain": [
       "0it [00:00, ?it/s]"
      ]
     },
     "metadata": {},
     "output_type": "display_data"
    },
    {
     "data": {
      "application/vnd.jupyter.widget-view+json": {
       "model_id": "98e3f987d25d4bb48e2964670e8d8314",
       "version_major": 2,
       "version_minor": 0
      },
      "text/plain": [
       "  0%|          | 0/1 [00:00<?, ?it/s]"
      ]
     },
     "metadata": {},
     "output_type": "display_data"
    },
    {
     "data": {
      "application/vnd.jupyter.widget-view+json": {
       "model_id": "cd9d8304e4814c0a86f5fbc0c88801c9",
       "version_major": 2,
       "version_minor": 0
      },
      "text/plain": [
       "0it [00:00, ?it/s]"
      ]
     },
     "metadata": {},
     "output_type": "display_data"
    },
    {
     "data": {
      "application/vnd.jupyter.widget-view+json": {
       "model_id": "63abedcd3e59428c8f2ef00c79f04204",
       "version_major": 2,
       "version_minor": 0
      },
      "text/plain": [
       "0it [00:00, ?it/s]"
      ]
     },
     "metadata": {},
     "output_type": "display_data"
    },
    {
     "data": {
      "application/vnd.jupyter.widget-view+json": {
       "model_id": "fd255f6d0cfe4e31baccc4be88093043",
       "version_major": 2,
       "version_minor": 0
      },
      "text/plain": [
       "  0%|          | 0/311 [00:00<?, ?it/s]"
      ]
     },
     "metadata": {},
     "output_type": "display_data"
    },
    {
     "data": {
      "application/vnd.jupyter.widget-view+json": {
       "model_id": "297c3fcc1b154281aaa2cf1eda491985",
       "version_major": 2,
       "version_minor": 0
      },
      "text/plain": [
       "  0%|          | 0/13 [00:00<?, ?it/s]"
      ]
     },
     "metadata": {},
     "output_type": "display_data"
    },
    {
     "data": {
      "application/vnd.jupyter.widget-view+json": {
       "model_id": "1f6622391e884a4391f525bb83492149",
       "version_major": 2,
       "version_minor": 0
      },
      "text/plain": [
       "  0%|          | 0/13 [00:00<?, ?it/s]"
      ]
     },
     "metadata": {},
     "output_type": "display_data"
    },
    {
     "data": {
      "application/vnd.jupyter.widget-view+json": {
       "model_id": "465c209c13d04e0fa733caaa7804a463",
       "version_major": 2,
       "version_minor": 0
      },
      "text/plain": [
       "  0%|          | 0/13 [00:00<?, ?it/s]"
      ]
     },
     "metadata": {},
     "output_type": "display_data"
    },
    {
     "data": {
      "application/vnd.jupyter.widget-view+json": {
       "model_id": "c0823b3ad4784343a8818df10f947d8c",
       "version_major": 2,
       "version_minor": 0
      },
      "text/plain": [
       "  0%|          | 0/13 [00:00<?, ?it/s]"
      ]
     },
     "metadata": {},
     "output_type": "display_data"
    },
    {
     "data": {
      "application/vnd.jupyter.widget-view+json": {
       "model_id": "c38cb19c0a7c420dab2f439b28db3351",
       "version_major": 2,
       "version_minor": 0
      },
      "text/plain": [
       "  0%|          | 0/13 [00:00<?, ?it/s]"
      ]
     },
     "metadata": {},
     "output_type": "display_data"
    },
    {
     "data": {
      "application/vnd.jupyter.widget-view+json": {
       "model_id": "66a77deb20d544f1bcfb24534d370066",
       "version_major": 2,
       "version_minor": 0
      },
      "text/plain": [
       "  0%|          | 0/13 [00:00<?, ?it/s]"
      ]
     },
     "metadata": {},
     "output_type": "display_data"
    },
    {
     "data": {
      "application/vnd.jupyter.widget-view+json": {
       "model_id": "6e0d42496bbf41f5a4906fc66203a475",
       "version_major": 2,
       "version_minor": 0
      },
      "text/plain": [
       "  0%|          | 0/13 [00:00<?, ?it/s]"
      ]
     },
     "metadata": {},
     "output_type": "display_data"
    },
    {
     "data": {
      "application/vnd.jupyter.widget-view+json": {
       "model_id": "f16e5d5d2cf64659a52b6f41b5dbcd81",
       "version_major": 2,
       "version_minor": 0
      },
      "text/plain": [
       "  0%|          | 0/13 [00:00<?, ?it/s]"
      ]
     },
     "metadata": {},
     "output_type": "display_data"
    },
    {
     "data": {
      "application/vnd.jupyter.widget-view+json": {
       "model_id": "f2327b0f13e545878b732277970e5da6",
       "version_major": 2,
       "version_minor": 0
      },
      "text/plain": [
       "  0%|          | 0/13 [00:00<?, ?it/s]"
      ]
     },
     "metadata": {},
     "output_type": "display_data"
    },
    {
     "data": {
      "application/vnd.jupyter.widget-view+json": {
       "model_id": "1261768217d1432ab785878be86a3811",
       "version_major": 2,
       "version_minor": 0
      },
      "text/plain": [
       "  0%|          | 0/13 [00:00<?, ?it/s]"
      ]
     },
     "metadata": {},
     "output_type": "display_data"
    },
    {
     "name": "stdout",
     "output_type": "stream",
     "text": [
      "results content\n",
      "genres name\n",
      "production_countries name\n",
      "keywords name\n"
     ]
    }
   ],
   "source": [
    "x.get_movies()"
   ]
  },
  {
   "cell_type": "code",
   "execution_count": 12,
   "id": "3cdabf24",
   "metadata": {},
   "outputs": [],
   "source": [
    "x.df"
   ]
  },
  {
   "cell_type": "code",
   "execution_count": 13,
   "id": "986f3bf8",
   "metadata": {},
   "outputs": [],
   "source": [
    "x.df.to_csv('movies.csv')"
   ]
  },
  {
   "cell_type": "code",
   "execution_count": 6,
   "id": "2b5ecd21",
   "metadata": {},
   "outputs": [
    {
     "data": {
      "text/html": [
       "<div>\n",
       "<style scoped>\n",
       "    .dataframe tbody tr th:only-of-type {\n",
       "        vertical-align: middle;\n",
       "    }\n",
       "\n",
       "    .dataframe tbody tr th {\n",
       "        vertical-align: top;\n",
       "    }\n",
       "\n",
       "    .dataframe thead th {\n",
       "        text-align: right;\n",
       "    }\n",
       "</style>\n",
       "<table border=\"1\" class=\"dataframe\">\n",
       "  <thead>\n",
       "    <tr style=\"text-align: right;\">\n",
       "      <th></th>\n",
       "      <th>movie</th>\n",
       "      <th>overview</th>\n",
       "      <th>popularity</th>\n",
       "      <th>release_date</th>\n",
       "      <th>vote_average</th>\n",
       "      <th>poster_path</th>\n",
       "      <th>release_year</th>\n",
       "      <th>keywords</th>\n",
       "      <th>results</th>\n",
       "      <th>budget</th>\n",
       "      <th>genres</th>\n",
       "      <th>production_countries</th>\n",
       "      <th>revenue</th>\n",
       "      <th>tagline</th>\n",
       "    </tr>\n",
       "    <tr>\n",
       "      <th>id</th>\n",
       "      <th></th>\n",
       "      <th></th>\n",
       "      <th></th>\n",
       "      <th></th>\n",
       "      <th></th>\n",
       "      <th></th>\n",
       "      <th></th>\n",
       "      <th></th>\n",
       "      <th></th>\n",
       "      <th></th>\n",
       "      <th></th>\n",
       "      <th></th>\n",
       "      <th></th>\n",
       "      <th></th>\n",
       "    </tr>\n",
       "  </thead>\n",
       "  <tbody>\n",
       "    <tr>\n",
       "      <th>12445</th>\n",
       "      <td>Harry Potter and the Deathly Hallows: Part 2</td>\n",
       "      <td>Harry, Ron and Hermione continue their quest t...</td>\n",
       "      <td>182.818</td>\n",
       "      <td>2011-07-07</td>\n",
       "      <td>8.1</td>\n",
       "      <td>/c54HpQmuwXjHq2C9wmoACjxoom3.jpg</td>\n",
       "      <td>2011</td>\n",
       "      <td>['saving the world', 'witch', 'self sacrifice'...</td>\n",
       "      <td>[\"It is the quality of one's convictions that ...</td>\n",
       "      <td>125000000.0</td>\n",
       "      <td>['Fantasy', 'Adventure']</td>\n",
       "      <td>['United Kingdom', 'United States of America']</td>\n",
       "      <td>1.341511e+09</td>\n",
       "      <td>It all ends here.</td>\n",
       "    </tr>\n",
       "    <tr>\n",
       "      <th>49013</th>\n",
       "      <td>Cars 2</td>\n",
       "      <td>Star race car Lightning McQueen and his pal Ma...</td>\n",
       "      <td>169.573</td>\n",
       "      <td>2011-06-11</td>\n",
       "      <td>6.1</td>\n",
       "      <td>/okIz1HyxeVOMzYwwHUjH2pHi74I.jpg</td>\n",
       "      <td>2011</td>\n",
       "      <td>['car race', 'sequel', 'anthropomorphism', 'be...</td>\n",
       "      <td>['Lasseter is smart enough to tell us a comple...</td>\n",
       "      <td>200000000.0</td>\n",
       "      <td>['Animation', 'Family', 'Adventure', 'Comedy']</td>\n",
       "      <td>['United States of America']</td>\n",
       "      <td>5.598524e+08</td>\n",
       "      <td>Ka-ciao!</td>\n",
       "    </tr>\n",
       "    <tr>\n",
       "      <th>50014</th>\n",
       "      <td>The Help</td>\n",
       "      <td>Aibileen Clark is a middle-aged African-Americ...</td>\n",
       "      <td>168.317</td>\n",
       "      <td>2011-08-09</td>\n",
       "      <td>8.2</td>\n",
       "      <td>/3kmfoWWEc9Vtyuaf9v5VipRgdjx.jpg</td>\n",
       "      <td>2011</td>\n",
       "      <td>['mississippi river', 'based on novel or book'...</td>\n",
       "      <td>['Great setting, cast, story and performances....</td>\n",
       "      <td>25000000.0</td>\n",
       "      <td>['Drama']</td>\n",
       "      <td>['United States of America']</td>\n",
       "      <td>2.166391e+08</td>\n",
       "      <td>Change begins with a whisper.</td>\n",
       "    </tr>\n",
       "    <tr>\n",
       "      <th>1865</th>\n",
       "      <td>Pirates of the Caribbean: On Stranger Tides</td>\n",
       "      <td>Captain Jack Sparrow crosses paths with a woma...</td>\n",
       "      <td>160.529</td>\n",
       "      <td>2011-05-14</td>\n",
       "      <td>6.5</td>\n",
       "      <td>/keGfSvCmYj7CvdRx36OdVrAEibE.jpg</td>\n",
       "      <td>2011</td>\n",
       "      <td>['england', 'spain', 'sea', 'captain', 'mutiny...</td>\n",
       "      <td>['More of the same ... but it is not funny any...</td>\n",
       "      <td>380000000.0</td>\n",
       "      <td>['Adventure', 'Action', 'Fantasy']</td>\n",
       "      <td>['United Kingdom', 'United States of America']</td>\n",
       "      <td>1.045714e+09</td>\n",
       "      <td>Live Forever Or Die Trying.</td>\n",
       "    </tr>\n",
       "    <tr>\n",
       "      <th>39254</th>\n",
       "      <td>Real Steel</td>\n",
       "      <td>Charlie Kenton is a washed-up fighter who reti...</td>\n",
       "      <td>130.738</td>\n",
       "      <td>2011-09-28</td>\n",
       "      <td>7.0</td>\n",
       "      <td>/4GIeI5K5YdDUkR3mNQBoScpSFEf.jpg</td>\n",
       "      <td>2011</td>\n",
       "      <td>['parent child relationship', 'fight', 'future...</td>\n",
       "      <td>['No splitting this Atom, it has got a rock so...</td>\n",
       "      <td>110000000.0</td>\n",
       "      <td>['Action', 'Science Fiction', 'Drama']</td>\n",
       "      <td>['United States of America', 'India']</td>\n",
       "      <td>2.992685e+08</td>\n",
       "      <td>If you get one shot, make it real.</td>\n",
       "    </tr>\n",
       "    <tr>\n",
       "      <th>...</th>\n",
       "      <td>...</td>\n",
       "      <td>...</td>\n",
       "      <td>...</td>\n",
       "      <td>...</td>\n",
       "      <td>...</td>\n",
       "      <td>...</td>\n",
       "      <td>...</td>\n",
       "      <td>...</td>\n",
       "      <td>...</td>\n",
       "      <td>...</td>\n",
       "      <td>...</td>\n",
       "      <td>...</td>\n",
       "      <td>...</td>\n",
       "      <td>...</td>\n",
       "    </tr>\n",
       "    <tr>\n",
       "      <th>818612</th>\n",
       "      <td>Wedding Season</td>\n",
       "      <td>Pressured by their immigrant parents to find s...</td>\n",
       "      <td>11.387</td>\n",
       "      <td>2022-08-04</td>\n",
       "      <td>6.3</td>\n",
       "      <td>/mFeXAZ1oOECPqEu8c2i4L5LmNyY.jpg</td>\n",
       "      <td>2022</td>\n",
       "      <td>[]</td>\n",
       "      <td>[]</td>\n",
       "      <td>0.0</td>\n",
       "      <td>['Romance', 'Comedy']</td>\n",
       "      <td>['Canada', 'United States of America']</td>\n",
       "      <td>0.000000e+00</td>\n",
       "      <td>NaN</td>\n",
       "    </tr>\n",
       "    <tr>\n",
       "      <th>973164</th>\n",
       "      <td>Ricky Gervais: SuperNature</td>\n",
       "      <td>With his signature pitch-black sense of humor,...</td>\n",
       "      <td>10.436</td>\n",
       "      <td>2022-05-24</td>\n",
       "      <td>7.3</td>\n",
       "      <td>/ry2HDP5KyEV3R7htXlFAeQbbXgf.jpg</td>\n",
       "      <td>2022</td>\n",
       "      <td>['stand-up comedy']</td>\n",
       "      <td>[]</td>\n",
       "      <td>0.0</td>\n",
       "      <td>['Comedy']</td>\n",
       "      <td>['United Kingdom']</td>\n",
       "      <td>0.000000e+00</td>\n",
       "      <td>NaN</td>\n",
       "    </tr>\n",
       "    <tr>\n",
       "      <th>957258</th>\n",
       "      <td>What is a Woman?</td>\n",
       "      <td>Political commentator Matt Walsh explores the ...</td>\n",
       "      <td>10.299</td>\n",
       "      <td>2022-06-01</td>\n",
       "      <td>6.9</td>\n",
       "      <td>/iiP8Sq7yWoYsKx9EVfyRPno8Un9.jpg</td>\n",
       "      <td>2022</td>\n",
       "      <td>['womanhood', 'gender', 'social documentary', ...</td>\n",
       "      <td>[]</td>\n",
       "      <td>0.0</td>\n",
       "      <td>['Documentary']</td>\n",
       "      <td>['United States of America']</td>\n",
       "      <td>0.000000e+00</td>\n",
       "      <td>One man's journey to answer the question of a ...</td>\n",
       "    </tr>\n",
       "    <tr>\n",
       "      <th>971961</th>\n",
       "      <td>Gabriel's Rapture: Part III</td>\n",
       "      <td>In the sixth installment of the Gabriel's Infe...</td>\n",
       "      <td>9.950</td>\n",
       "      <td>2022-08-12</td>\n",
       "      <td>8.1</td>\n",
       "      <td>/vyLRyHRrPy9zTf6t0sS4aTbF9gl.jpg</td>\n",
       "      <td>2022</td>\n",
       "      <td>[]</td>\n",
       "      <td>[]</td>\n",
       "      <td>0.0</td>\n",
       "      <td>['Romance']</td>\n",
       "      <td>[]</td>\n",
       "      <td>0.000000e+00</td>\n",
       "      <td>NaN</td>\n",
       "    </tr>\n",
       "    <tr>\n",
       "      <th>1019836</th>\n",
       "      <td>Christmas Bloody Christmas</td>\n",
       "      <td>It's Christmas Eve and Tori just wants to get ...</td>\n",
       "      <td>8.670</td>\n",
       "      <td>2022-10-05</td>\n",
       "      <td>5.8</td>\n",
       "      <td>/97PaQ7r4H3y0x9RTXusfedmzf86.jpg</td>\n",
       "      <td>2022</td>\n",
       "      <td>['sheriff', 'mass murder', 'murder', 'car cras...</td>\n",
       "      <td>['_Christmas Bloody Christmas_ should not be m...</td>\n",
       "      <td>0.0</td>\n",
       "      <td>['Horror']</td>\n",
       "      <td>['United States of America']</td>\n",
       "      <td>0.000000e+00</td>\n",
       "      <td>You better not cry.</td>\n",
       "    </tr>\n",
       "  </tbody>\n",
       "</table>\n",
       "<p>9813 rows × 14 columns</p>\n",
       "</div>"
      ],
      "text/plain": [
       "                                                movie  \\\n",
       "id                                                      \n",
       "12445    Harry Potter and the Deathly Hallows: Part 2   \n",
       "49013                                          Cars 2   \n",
       "50014                                        The Help   \n",
       "1865      Pirates of the Caribbean: On Stranger Tides   \n",
       "39254                                      Real Steel   \n",
       "...                                               ...   \n",
       "818612                                 Wedding Season   \n",
       "973164                     Ricky Gervais: SuperNature   \n",
       "957258                               What is a Woman?   \n",
       "971961                    Gabriel's Rapture: Part III   \n",
       "1019836                    Christmas Bloody Christmas   \n",
       "\n",
       "                                                  overview  popularity  \\\n",
       "id                                                                       \n",
       "12445    Harry, Ron and Hermione continue their quest t...     182.818   \n",
       "49013    Star race car Lightning McQueen and his pal Ma...     169.573   \n",
       "50014    Aibileen Clark is a middle-aged African-Americ...     168.317   \n",
       "1865     Captain Jack Sparrow crosses paths with a woma...     160.529   \n",
       "39254    Charlie Kenton is a washed-up fighter who reti...     130.738   \n",
       "...                                                    ...         ...   \n",
       "818612   Pressured by their immigrant parents to find s...      11.387   \n",
       "973164   With his signature pitch-black sense of humor,...      10.436   \n",
       "957258   Political commentator Matt Walsh explores the ...      10.299   \n",
       "971961   In the sixth installment of the Gabriel's Infe...       9.950   \n",
       "1019836  It's Christmas Eve and Tori just wants to get ...       8.670   \n",
       "\n",
       "        release_date  vote_average                       poster_path  \\\n",
       "id                                                                     \n",
       "12445     2011-07-07           8.1  /c54HpQmuwXjHq2C9wmoACjxoom3.jpg   \n",
       "49013     2011-06-11           6.1  /okIz1HyxeVOMzYwwHUjH2pHi74I.jpg   \n",
       "50014     2011-08-09           8.2  /3kmfoWWEc9Vtyuaf9v5VipRgdjx.jpg   \n",
       "1865      2011-05-14           6.5  /keGfSvCmYj7CvdRx36OdVrAEibE.jpg   \n",
       "39254     2011-09-28           7.0  /4GIeI5K5YdDUkR3mNQBoScpSFEf.jpg   \n",
       "...              ...           ...                               ...   \n",
       "818612    2022-08-04           6.3  /mFeXAZ1oOECPqEu8c2i4L5LmNyY.jpg   \n",
       "973164    2022-05-24           7.3  /ry2HDP5KyEV3R7htXlFAeQbbXgf.jpg   \n",
       "957258    2022-06-01           6.9  /iiP8Sq7yWoYsKx9EVfyRPno8Un9.jpg   \n",
       "971961    2022-08-12           8.1  /vyLRyHRrPy9zTf6t0sS4aTbF9gl.jpg   \n",
       "1019836   2022-10-05           5.8  /97PaQ7r4H3y0x9RTXusfedmzf86.jpg   \n",
       "\n",
       "         release_year                                           keywords  \\\n",
       "id                                                                         \n",
       "12445            2011  ['saving the world', 'witch', 'self sacrifice'...   \n",
       "49013            2011  ['car race', 'sequel', 'anthropomorphism', 'be...   \n",
       "50014            2011  ['mississippi river', 'based on novel or book'...   \n",
       "1865             2011  ['england', 'spain', 'sea', 'captain', 'mutiny...   \n",
       "39254            2011  ['parent child relationship', 'fight', 'future...   \n",
       "...               ...                                                ...   \n",
       "818612           2022                                                 []   \n",
       "973164           2022                                ['stand-up comedy']   \n",
       "957258           2022  ['womanhood', 'gender', 'social documentary', ...   \n",
       "971961           2022                                                 []   \n",
       "1019836          2022  ['sheriff', 'mass murder', 'murder', 'car cras...   \n",
       "\n",
       "                                                   results       budget  \\\n",
       "id                                                                        \n",
       "12445    [\"It is the quality of one's convictions that ...  125000000.0   \n",
       "49013    ['Lasseter is smart enough to tell us a comple...  200000000.0   \n",
       "50014    ['Great setting, cast, story and performances....   25000000.0   \n",
       "1865     ['More of the same ... but it is not funny any...  380000000.0   \n",
       "39254    ['No splitting this Atom, it has got a rock so...  110000000.0   \n",
       "...                                                    ...          ...   \n",
       "818612                                                  []          0.0   \n",
       "973164                                                  []          0.0   \n",
       "957258                                                  []          0.0   \n",
       "971961                                                  []          0.0   \n",
       "1019836  ['_Christmas Bloody Christmas_ should not be m...          0.0   \n",
       "\n",
       "                                                 genres  \\\n",
       "id                                                        \n",
       "12445                          ['Fantasy', 'Adventure']   \n",
       "49013    ['Animation', 'Family', 'Adventure', 'Comedy']   \n",
       "50014                                         ['Drama']   \n",
       "1865                 ['Adventure', 'Action', 'Fantasy']   \n",
       "39254            ['Action', 'Science Fiction', 'Drama']   \n",
       "...                                                 ...   \n",
       "818612                            ['Romance', 'Comedy']   \n",
       "973164                                       ['Comedy']   \n",
       "957258                                  ['Documentary']   \n",
       "971961                                      ['Romance']   \n",
       "1019836                                      ['Horror']   \n",
       "\n",
       "                                   production_countries       revenue  \\\n",
       "id                                                                      \n",
       "12445    ['United Kingdom', 'United States of America']  1.341511e+09   \n",
       "49013                      ['United States of America']  5.598524e+08   \n",
       "50014                      ['United States of America']  2.166391e+08   \n",
       "1865     ['United Kingdom', 'United States of America']  1.045714e+09   \n",
       "39254             ['United States of America', 'India']  2.992685e+08   \n",
       "...                                                 ...           ...   \n",
       "818612           ['Canada', 'United States of America']  0.000000e+00   \n",
       "973164                               ['United Kingdom']  0.000000e+00   \n",
       "957258                     ['United States of America']  0.000000e+00   \n",
       "971961                                               []  0.000000e+00   \n",
       "1019836                    ['United States of America']  0.000000e+00   \n",
       "\n",
       "                                                   tagline  \n",
       "id                                                          \n",
       "12445                                    It all ends here.  \n",
       "49013                                             Ka-ciao!  \n",
       "50014                        Change begins with a whisper.  \n",
       "1865                           Live Forever Or Die Trying.  \n",
       "39254                   If you get one shot, make it real.  \n",
       "...                                                    ...  \n",
       "818612                                                 NaN  \n",
       "973164                                                 NaN  \n",
       "957258   One man's journey to answer the question of a ...  \n",
       "971961                                                 NaN  \n",
       "1019836                                You better not cry.  \n",
       "\n",
       "[9813 rows x 14 columns]"
      ]
     },
     "execution_count": 6,
     "metadata": {},
     "output_type": "execute_result"
    }
   ],
   "source": [
    "x = pd.read_csv('movies.csv',index_col=0)\n",
    "x"
   ]
  },
  {
   "cell_type": "markdown",
   "id": "1c06edce",
   "metadata": {},
   "source": [
    "### Cast Data"
   ]
  },
  {
   "cell_type": "code",
   "execution_count": 45,
   "id": "902ee4ce",
   "metadata": {},
   "outputs": [],
   "source": [
    "import concurrent.futures\n",
    "\n",
    "class TMDBCastCrewScraper(TMDBMovieScraper):\n",
    "    \n",
    "    def __init__(self, movie_ids: list, popularity_threshold = 25, max_threads=30):\n",
    "        self.movie_ids = movie_ids\n",
    "        self.cast_results = []\n",
    "        self.crew_results = []\n",
    "        self.popularity_threshold = popularity_threshold\n",
    "        self.max_threads = max_threads\n",
    "\n",
    "\n",
    "    def _append_data_to_list(self,list_dic_results, popularity_threshold, results, movie_id):\n",
    "        for dic in list_dic_results:\n",
    "            if dic['popularity'] >= self.popularity_threshold:\n",
    "                dic['tmdb_id'] = movie_id\n",
    "                results.append(dic)\n",
    "\n",
    "\n",
    "    def _get_cast_crew_for_movie(self, movie_id):\n",
    "        try:\n",
    "            film_response = self._get_film_response(movie_id)\n",
    "#             crew_dic_list = film_response.credits()['crew']\n",
    "            cast_dic_list = film_response.credits()['cast']\n",
    "#             self._append_data_to_list(crew_dic_list,self.popularity_threshold,self.crew_results,movie_id)\n",
    "            self._append_data_to_list(cast_dic_list,self.popularity_threshold,self.cast_results,movie_id)\n",
    "\n",
    "        except:\n",
    "            pass\n",
    "\n",
    "    def _get_cast_crew(self, movie_ids):\n",
    "        with concurrent.futures.ThreadPoolExecutor(max_workers=self.max_threads) as executor:\n",
    "            futures = []\n",
    "            for movie_id in movie_ids:\n",
    "                futures.append(executor.submit(self._get_cast_crew_for_movie, movie_id))\n",
    "            concurrent.futures.wait(futures)\n",
    "        return\n"
   ]
  },
  {
   "cell_type": "code",
   "execution_count": 46,
   "id": "869a4c33",
   "metadata": {},
   "outputs": [],
   "source": [
    "mod = TMDBCastCrewScraper(x.index)"
   ]
  },
  {
   "cell_type": "code",
   "execution_count": 47,
   "id": "7dd0a2aa",
   "metadata": {},
   "outputs": [],
   "source": [
    "mod._get_cast_crew(x.index)"
   ]
  },
  {
   "cell_type": "code",
   "execution_count": 48,
   "id": "88b049ad",
   "metadata": {},
   "outputs": [],
   "source": [
    "df_cast = pd.DataFrame(mod.cast_results)"
   ]
  },
  {
   "cell_type": "code",
   "execution_count": 55,
   "id": "4603ae69",
   "metadata": {},
   "outputs": [],
   "source": [
    "df_cast.to_csv('cast.csv',index=False)"
   ]
  },
  {
   "cell_type": "markdown",
   "id": "plastic-behalf",
   "metadata": {},
   "source": [
    "# Get Tag and Movie Poster\n",
    "--"
   ]
  },
  {
   "cell_type": "code",
   "execution_count": null,
   "id": "apparent-battery",
   "metadata": {},
   "outputs": [],
   "source": [
    "def get_film_response(film_id):\n",
    "    film_response = tmdb.Movies(film_id)\n",
    "    return film_response"
   ]
  },
  {
   "cell_type": "code",
   "execution_count": null,
   "id": "great-mercury",
   "metadata": {
    "code_folding": []
   },
   "outputs": [],
   "source": [
    "def build_film_dic(film_id,film_response):\n",
    "    film_dic = {}\n",
    "    \n",
    "    try:\n",
    "        film_dic['tmdb_id'] = film_id\n",
    "    except:\n",
    "        film_dic['tmdb_id'] = np.nan\n",
    "        \n",
    "    try:\n",
    "        film_dic['poster_path'] = 'https://image.tmdb.org/t/p/w500'+film_response.info()['poster_path']  \n",
    "    except:\n",
    "        film_dic['poster_path'] = np.nan\n",
    "    \n",
    "    try:\n",
    "        film_dic['tagline'] = film_response.info()['tagline']   \n",
    "    except:\n",
    "        film_dic['tagline'] = np.nan\n",
    "    \n",
    "   \n",
    "    \n",
    "    return film_dic\n",
    "    \n"
   ]
  },
  {
   "cell_type": "code",
   "execution_count": null,
   "id": "dimensional-eight",
   "metadata": {},
   "outputs": [],
   "source": [
    "all_results = []"
   ]
  },
  {
   "cell_type": "code",
   "execution_count": null,
   "id": "preliminary-ribbon",
   "metadata": {},
   "outputs": [],
   "source": [
    "def get_film_details(film_ids):\n",
    "    \n",
    "    for film_id in tqdm(film_ids):\n",
    "      \n",
    "\n",
    "        film_response = get_film_response(film_id)\n",
    "        film_dic = build_film_dic(film_id,film_response)\n",
    "        all_results.append(film_dic)\n",
    "\n",
    "            \n",
    "    return results"
   ]
  },
  {
   "cell_type": "code",
   "execution_count": null,
   "id": "weird-zoning",
   "metadata": {},
   "outputs": [],
   "source": [
    "x = pd.read_json('/Users/sam.ho/Documents/sam_personal/streamlit_apps/imdb_network_analysis/data/main/tmdb_data_main.json')"
   ]
  },
  {
   "cell_type": "code",
   "execution_count": null,
   "id": "fifty-order",
   "metadata": {},
   "outputs": [],
   "source": [
    "x['tmdb_id'].to_list()"
   ]
  },
  {
   "cell_type": "code",
   "execution_count": null,
   "id": "automated-router",
   "metadata": {},
   "outputs": [],
   "source": [
    "mt = MultiThreading(20,x['tmdb_id'].to_list(),all_results)"
   ]
  },
  {
   "cell_type": "code",
   "execution_count": null,
   "id": "married-stephen",
   "metadata": {},
   "outputs": [],
   "source": [
    "mt.Run(get_film_details)"
   ]
  },
  {
   "cell_type": "code",
   "execution_count": null,
   "id": "subtle-senate",
   "metadata": {},
   "outputs": [],
   "source": [
    "y = pd.DataFrame(all_results)"
   ]
  },
  {
   "cell_type": "code",
   "execution_count": null,
   "id": "embedded-vampire",
   "metadata": {},
   "outputs": [],
   "source": [
    "df_use = pd.merge(x,y,how='left')"
   ]
  },
  {
   "cell_type": "code",
   "execution_count": null,
   "id": "specific-metallic",
   "metadata": {},
   "outputs": [],
   "source": [
    "df_use.to_json('/Users/sam.ho/Documents/sam_personal/streamlit_apps/imdb_network_analysis/data/main/tmdb_data_main.json')"
   ]
  },
  {
   "cell_type": "code",
   "execution_count": null,
   "id": "every-albert",
   "metadata": {},
   "outputs": [],
   "source": []
  }
 ],
 "metadata": {
  "kernelspec": {
   "display_name": "Python 3 (ipykernel)",
   "language": "python",
   "name": "python3"
  },
  "language_info": {
   "codemirror_mode": {
    "name": "ipython",
    "version": 3
   },
   "file_extension": ".py",
   "mimetype": "text/x-python",
   "name": "python",
   "nbconvert_exporter": "python",
   "pygments_lexer": "ipython3",
   "version": "3.10.10"
  }
 },
 "nbformat": 4,
 "nbformat_minor": 5
}
